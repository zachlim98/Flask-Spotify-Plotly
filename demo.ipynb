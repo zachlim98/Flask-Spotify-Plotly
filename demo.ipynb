{
 "cells": [
  {
   "cell_type": "code",
   "execution_count": 67,
   "metadata": {},
   "outputs": [
    {
     "name": "stdout",
     "output_type": "stream",
     "text": [
      "https://accounts.spotify.com/authorize?client_id=0274670a97214bc396040aae2ab3f181&response_type=code&redirect_uri=https%3A%2F%2Ftop-spot-0.herokuapp.com%2F&scope=user-top-read\n"
     ]
    }
   ],
   "source": [
    "# Shows the top artists for a user\n",
    "import spotipy\n",
    "from spotipy.oauth2 import SpotifyOAuth\n",
    "\n",
    "scope = 'user-top-read'\n",
    "ranges = ['short_term', 'medium_term', 'long_term']\n",
    "\n",
    "auth_manager = SpotifyOAuth(client_id = \"0274670a97214bc396040aae2ab3f181\", \n",
    "client_secret= \"4b81944af86846099167d251f5283941\", \n",
    "redirect_uri=\"https://top-spot-0.herokuapp.com/\", scope=scope)\n",
    "\n",
    "auth_url = auth_manager.get_authorize_url()\n",
    "\n",
    "print(auth_url)\n",
    "\n",
    "\n",
    "\n",
    "# for sp_range in ['short_term', 'medium_term', 'long_term']:\n",
    "#     print(\"range:\", sp_range)\n",
    "\n",
    "#     results = sp.current_user_top_artists(time_range=sp_range, limit=50)\n",
    "\n",
    "#     for i, item in enumerate(results['items']):\n",
    "#         print(i, item['name'])\n",
    "#     print()"
   ]
  },
  {
   "cell_type": "code",
   "execution_count": 70,
   "metadata": {},
   "outputs": [],
   "source": [
    "cache_handler = spotipy.cache_handler.CacheFileHandler(cache_path='.cache')\n",
    "auth_manager = spotipy.oauth2.SpotifyOAuth(client_id = \"0274670a97214bc396040aae2ab3f181\", \n",
    "client_secret= \"4b81944af86846099167d251f5283941\", \n",
    "redirect_uri=\"https://top-spot-0.herokuapp.com/\",\n",
    "scope='user-read-currently-playing playlist-modify-private',\n",
    "                                            cache_handler=cache_handler, \n",
    "                                            show_dialog=True)"
   ]
  },
  {
   "cell_type": "code",
   "execution_count": 71,
   "metadata": {},
   "outputs": [
    {
     "name": "stdout",
     "output_type": "stream",
     "text": [
      "https://accounts.spotify.com/authorize?client_id=0274670a97214bc396040aae2ab3f181&response_type=code&redirect_uri=https%3A%2F%2Ftop-spot-0.herokuapp.com%2F&scope=user-read-currently-playing+playlist-modify-private&show_dialog=True\n"
     ]
    }
   ],
   "source": [
    "auth_url = auth_manager.get_authorize_url()\n",
    "print(auth_url)"
   ]
  },
  {
   "cell_type": "code",
   "execution_count": 73,
   "metadata": {},
   "outputs": [
    {
     "data": {
      "text/plain": [
       "{'access_token': 'BQCXelX7NELB6xpuyY5HDzlOTPNYxMGfZAMdSkWbK3LF46dpeEM56IcYqpqugV1wMRYPMlXN1IdFa4sxGLZzGsJ1M1_H3Uu-ZAo1t_NVCisEOaHeDl3VKancKVrZVF9Xn9n8bmy2CnnjbHWTX9FbjFHkkeURJORC8WSqKOpRLD2AzN7tBe2xqN0g2A',\n",
       " 'token_type': 'Bearer',\n",
       " 'expires_in': 3600,\n",
       " 'scope': 'user-read-currently-playing playlist-modify-private',\n",
       " 'expires_at': 1654659083,\n",
       " 'refresh_token': 'AQCTLugZa8eXLw64KqmF-pZT10RJtDNJ46yIQ0AmK7SzIaagm4zy3NMO6jPp6jLpieelGp3WgtCvBK5eOgYrukfAzKyW7N2Wuwd7J5DhLr44mE65AwWJ_7FZQKaTaM4lTEM'}"
      ]
     },
     "execution_count": 73,
     "metadata": {},
     "output_type": "execute_result"
    }
   ],
   "source": [
    "cache_handler.get_cached_token()"
   ]
  },
  {
   "cell_type": "code",
   "execution_count": 74,
   "metadata": {},
   "outputs": [],
   "source": [
    "token = 'BQCXelX7NELB6xpuyY5HDzlOTPNYxMGfZAMdSkWbK3LF46dpeEM56IcYqpqugV1wMRYPMlXN1IdFa4sxGLZzGsJ1M1_H3Uu-ZAo1t_NVCisEOaHeDl3VKancKVrZVF9Xn9n8bmy2CnnjbHWTX9FbjFHkkeURJORC8WSqKOpRLD2AzN7tBe2xqN0g2A'"
   ]
  },
  {
   "cell_type": "code",
   "execution_count": 75,
   "metadata": {},
   "outputs": [],
   "source": [
    "sp = spotipy.Spotify(auth = token)"
   ]
  },
  {
   "cell_type": "code",
   "execution_count": 82,
   "metadata": {},
   "outputs": [],
   "source": [
    "st = sp.current_user_top_artists(time_range=\"short_term\")"
   ]
  },
  {
   "cell_type": "code",
   "execution_count": 91,
   "metadata": {},
   "outputs": [
    {
     "data": {
      "application/vnd.plotly.v1+json": {
       "config": {
        "plotlyServerURL": "https://plot.ly"
       },
       "data": [
        {
         "domain": {
          "x": [
           0,
           1
          ],
          "y": [
           0,
           1
          ]
         },
         "hovertemplate": "Name=%{label}<br>Popularity=%{value}<extra></extra>",
         "labels": [
          "LANY",
          "Hillsong UNITED",
          "Josh Yeoh",
          "Lizzy McAlpine",
          "PREP"
         ],
         "legendgroup": "",
         "name": "",
         "showlegend": true,
         "type": "pie",
         "values": [
          74,
          68,
          21,
          66,
          49
         ]
        }
       ],
       "layout": {
        "legend": {
         "tracegroupgap": 0
        },
        "margin": {
         "t": 60
        },
        "template": {
         "data": {
          "bar": [
           {
            "error_x": {
             "color": "#2a3f5f"
            },
            "error_y": {
             "color": "#2a3f5f"
            },
            "marker": {
             "line": {
              "color": "#E5ECF6",
              "width": 0.5
             },
             "pattern": {
              "fillmode": "overlay",
              "size": 10,
              "solidity": 0.2
             }
            },
            "type": "bar"
           }
          ],
          "barpolar": [
           {
            "marker": {
             "line": {
              "color": "#E5ECF6",
              "width": 0.5
             },
             "pattern": {
              "fillmode": "overlay",
              "size": 10,
              "solidity": 0.2
             }
            },
            "type": "barpolar"
           }
          ],
          "carpet": [
           {
            "aaxis": {
             "endlinecolor": "#2a3f5f",
             "gridcolor": "white",
             "linecolor": "white",
             "minorgridcolor": "white",
             "startlinecolor": "#2a3f5f"
            },
            "baxis": {
             "endlinecolor": "#2a3f5f",
             "gridcolor": "white",
             "linecolor": "white",
             "minorgridcolor": "white",
             "startlinecolor": "#2a3f5f"
            },
            "type": "carpet"
           }
          ],
          "choropleth": [
           {
            "colorbar": {
             "outlinewidth": 0,
             "ticks": ""
            },
            "type": "choropleth"
           }
          ],
          "contour": [
           {
            "colorbar": {
             "outlinewidth": 0,
             "ticks": ""
            },
            "colorscale": [
             [
              0,
              "#0d0887"
             ],
             [
              0.1111111111111111,
              "#46039f"
             ],
             [
              0.2222222222222222,
              "#7201a8"
             ],
             [
              0.3333333333333333,
              "#9c179e"
             ],
             [
              0.4444444444444444,
              "#bd3786"
             ],
             [
              0.5555555555555556,
              "#d8576b"
             ],
             [
              0.6666666666666666,
              "#ed7953"
             ],
             [
              0.7777777777777778,
              "#fb9f3a"
             ],
             [
              0.8888888888888888,
              "#fdca26"
             ],
             [
              1,
              "#f0f921"
             ]
            ],
            "type": "contour"
           }
          ],
          "contourcarpet": [
           {
            "colorbar": {
             "outlinewidth": 0,
             "ticks": ""
            },
            "type": "contourcarpet"
           }
          ],
          "heatmap": [
           {
            "colorbar": {
             "outlinewidth": 0,
             "ticks": ""
            },
            "colorscale": [
             [
              0,
              "#0d0887"
             ],
             [
              0.1111111111111111,
              "#46039f"
             ],
             [
              0.2222222222222222,
              "#7201a8"
             ],
             [
              0.3333333333333333,
              "#9c179e"
             ],
             [
              0.4444444444444444,
              "#bd3786"
             ],
             [
              0.5555555555555556,
              "#d8576b"
             ],
             [
              0.6666666666666666,
              "#ed7953"
             ],
             [
              0.7777777777777778,
              "#fb9f3a"
             ],
             [
              0.8888888888888888,
              "#fdca26"
             ],
             [
              1,
              "#f0f921"
             ]
            ],
            "type": "heatmap"
           }
          ],
          "heatmapgl": [
           {
            "colorbar": {
             "outlinewidth": 0,
             "ticks": ""
            },
            "colorscale": [
             [
              0,
              "#0d0887"
             ],
             [
              0.1111111111111111,
              "#46039f"
             ],
             [
              0.2222222222222222,
              "#7201a8"
             ],
             [
              0.3333333333333333,
              "#9c179e"
             ],
             [
              0.4444444444444444,
              "#bd3786"
             ],
             [
              0.5555555555555556,
              "#d8576b"
             ],
             [
              0.6666666666666666,
              "#ed7953"
             ],
             [
              0.7777777777777778,
              "#fb9f3a"
             ],
             [
              0.8888888888888888,
              "#fdca26"
             ],
             [
              1,
              "#f0f921"
             ]
            ],
            "type": "heatmapgl"
           }
          ],
          "histogram": [
           {
            "marker": {
             "pattern": {
              "fillmode": "overlay",
              "size": 10,
              "solidity": 0.2
             }
            },
            "type": "histogram"
           }
          ],
          "histogram2d": [
           {
            "colorbar": {
             "outlinewidth": 0,
             "ticks": ""
            },
            "colorscale": [
             [
              0,
              "#0d0887"
             ],
             [
              0.1111111111111111,
              "#46039f"
             ],
             [
              0.2222222222222222,
              "#7201a8"
             ],
             [
              0.3333333333333333,
              "#9c179e"
             ],
             [
              0.4444444444444444,
              "#bd3786"
             ],
             [
              0.5555555555555556,
              "#d8576b"
             ],
             [
              0.6666666666666666,
              "#ed7953"
             ],
             [
              0.7777777777777778,
              "#fb9f3a"
             ],
             [
              0.8888888888888888,
              "#fdca26"
             ],
             [
              1,
              "#f0f921"
             ]
            ],
            "type": "histogram2d"
           }
          ],
          "histogram2dcontour": [
           {
            "colorbar": {
             "outlinewidth": 0,
             "ticks": ""
            },
            "colorscale": [
             [
              0,
              "#0d0887"
             ],
             [
              0.1111111111111111,
              "#46039f"
             ],
             [
              0.2222222222222222,
              "#7201a8"
             ],
             [
              0.3333333333333333,
              "#9c179e"
             ],
             [
              0.4444444444444444,
              "#bd3786"
             ],
             [
              0.5555555555555556,
              "#d8576b"
             ],
             [
              0.6666666666666666,
              "#ed7953"
             ],
             [
              0.7777777777777778,
              "#fb9f3a"
             ],
             [
              0.8888888888888888,
              "#fdca26"
             ],
             [
              1,
              "#f0f921"
             ]
            ],
            "type": "histogram2dcontour"
           }
          ],
          "mesh3d": [
           {
            "colorbar": {
             "outlinewidth": 0,
             "ticks": ""
            },
            "type": "mesh3d"
           }
          ],
          "parcoords": [
           {
            "line": {
             "colorbar": {
              "outlinewidth": 0,
              "ticks": ""
             }
            },
            "type": "parcoords"
           }
          ],
          "pie": [
           {
            "automargin": true,
            "type": "pie"
           }
          ],
          "scatter": [
           {
            "fillpattern": {
             "fillmode": "overlay",
             "size": 10,
             "solidity": 0.2
            },
            "type": "scatter"
           }
          ],
          "scatter3d": [
           {
            "line": {
             "colorbar": {
              "outlinewidth": 0,
              "ticks": ""
             }
            },
            "marker": {
             "colorbar": {
              "outlinewidth": 0,
              "ticks": ""
             }
            },
            "type": "scatter3d"
           }
          ],
          "scattercarpet": [
           {
            "marker": {
             "colorbar": {
              "outlinewidth": 0,
              "ticks": ""
             }
            },
            "type": "scattercarpet"
           }
          ],
          "scattergeo": [
           {
            "marker": {
             "colorbar": {
              "outlinewidth": 0,
              "ticks": ""
             }
            },
            "type": "scattergeo"
           }
          ],
          "scattergl": [
           {
            "marker": {
             "colorbar": {
              "outlinewidth": 0,
              "ticks": ""
             }
            },
            "type": "scattergl"
           }
          ],
          "scattermapbox": [
           {
            "marker": {
             "colorbar": {
              "outlinewidth": 0,
              "ticks": ""
             }
            },
            "type": "scattermapbox"
           }
          ],
          "scatterpolar": [
           {
            "marker": {
             "colorbar": {
              "outlinewidth": 0,
              "ticks": ""
             }
            },
            "type": "scatterpolar"
           }
          ],
          "scatterpolargl": [
           {
            "marker": {
             "colorbar": {
              "outlinewidth": 0,
              "ticks": ""
             }
            },
            "type": "scatterpolargl"
           }
          ],
          "scatterternary": [
           {
            "marker": {
             "colorbar": {
              "outlinewidth": 0,
              "ticks": ""
             }
            },
            "type": "scatterternary"
           }
          ],
          "surface": [
           {
            "colorbar": {
             "outlinewidth": 0,
             "ticks": ""
            },
            "colorscale": [
             [
              0,
              "#0d0887"
             ],
             [
              0.1111111111111111,
              "#46039f"
             ],
             [
              0.2222222222222222,
              "#7201a8"
             ],
             [
              0.3333333333333333,
              "#9c179e"
             ],
             [
              0.4444444444444444,
              "#bd3786"
             ],
             [
              0.5555555555555556,
              "#d8576b"
             ],
             [
              0.6666666666666666,
              "#ed7953"
             ],
             [
              0.7777777777777778,
              "#fb9f3a"
             ],
             [
              0.8888888888888888,
              "#fdca26"
             ],
             [
              1,
              "#f0f921"
             ]
            ],
            "type": "surface"
           }
          ],
          "table": [
           {
            "cells": {
             "fill": {
              "color": "#EBF0F8"
             },
             "line": {
              "color": "white"
             }
            },
            "header": {
             "fill": {
              "color": "#C8D4E3"
             },
             "line": {
              "color": "white"
             }
            },
            "type": "table"
           }
          ]
         },
         "layout": {
          "annotationdefaults": {
           "arrowcolor": "#2a3f5f",
           "arrowhead": 0,
           "arrowwidth": 1
          },
          "autotypenumbers": "strict",
          "coloraxis": {
           "colorbar": {
            "outlinewidth": 0,
            "ticks": ""
           }
          },
          "colorscale": {
           "diverging": [
            [
             0,
             "#8e0152"
            ],
            [
             0.1,
             "#c51b7d"
            ],
            [
             0.2,
             "#de77ae"
            ],
            [
             0.3,
             "#f1b6da"
            ],
            [
             0.4,
             "#fde0ef"
            ],
            [
             0.5,
             "#f7f7f7"
            ],
            [
             0.6,
             "#e6f5d0"
            ],
            [
             0.7,
             "#b8e186"
            ],
            [
             0.8,
             "#7fbc41"
            ],
            [
             0.9,
             "#4d9221"
            ],
            [
             1,
             "#276419"
            ]
           ],
           "sequential": [
            [
             0,
             "#0d0887"
            ],
            [
             0.1111111111111111,
             "#46039f"
            ],
            [
             0.2222222222222222,
             "#7201a8"
            ],
            [
             0.3333333333333333,
             "#9c179e"
            ],
            [
             0.4444444444444444,
             "#bd3786"
            ],
            [
             0.5555555555555556,
             "#d8576b"
            ],
            [
             0.6666666666666666,
             "#ed7953"
            ],
            [
             0.7777777777777778,
             "#fb9f3a"
            ],
            [
             0.8888888888888888,
             "#fdca26"
            ],
            [
             1,
             "#f0f921"
            ]
           ],
           "sequentialminus": [
            [
             0,
             "#0d0887"
            ],
            [
             0.1111111111111111,
             "#46039f"
            ],
            [
             0.2222222222222222,
             "#7201a8"
            ],
            [
             0.3333333333333333,
             "#9c179e"
            ],
            [
             0.4444444444444444,
             "#bd3786"
            ],
            [
             0.5555555555555556,
             "#d8576b"
            ],
            [
             0.6666666666666666,
             "#ed7953"
            ],
            [
             0.7777777777777778,
             "#fb9f3a"
            ],
            [
             0.8888888888888888,
             "#fdca26"
            ],
            [
             1,
             "#f0f921"
            ]
           ]
          },
          "colorway": [
           "#636efa",
           "#EF553B",
           "#00cc96",
           "#ab63fa",
           "#FFA15A",
           "#19d3f3",
           "#FF6692",
           "#B6E880",
           "#FF97FF",
           "#FECB52"
          ],
          "font": {
           "color": "#2a3f5f"
          },
          "geo": {
           "bgcolor": "white",
           "lakecolor": "white",
           "landcolor": "#E5ECF6",
           "showlakes": true,
           "showland": true,
           "subunitcolor": "white"
          },
          "hoverlabel": {
           "align": "left"
          },
          "hovermode": "closest",
          "mapbox": {
           "style": "light"
          },
          "paper_bgcolor": "white",
          "plot_bgcolor": "#E5ECF6",
          "polar": {
           "angularaxis": {
            "gridcolor": "white",
            "linecolor": "white",
            "ticks": ""
           },
           "bgcolor": "#E5ECF6",
           "radialaxis": {
            "gridcolor": "white",
            "linecolor": "white",
            "ticks": ""
           }
          },
          "scene": {
           "xaxis": {
            "backgroundcolor": "#E5ECF6",
            "gridcolor": "white",
            "gridwidth": 2,
            "linecolor": "white",
            "showbackground": true,
            "ticks": "",
            "zerolinecolor": "white"
           },
           "yaxis": {
            "backgroundcolor": "#E5ECF6",
            "gridcolor": "white",
            "gridwidth": 2,
            "linecolor": "white",
            "showbackground": true,
            "ticks": "",
            "zerolinecolor": "white"
           },
           "zaxis": {
            "backgroundcolor": "#E5ECF6",
            "gridcolor": "white",
            "gridwidth": 2,
            "linecolor": "white",
            "showbackground": true,
            "ticks": "",
            "zerolinecolor": "white"
           }
          },
          "shapedefaults": {
           "line": {
            "color": "#2a3f5f"
           }
          },
          "ternary": {
           "aaxis": {
            "gridcolor": "white",
            "linecolor": "white",
            "ticks": ""
           },
           "baxis": {
            "gridcolor": "white",
            "linecolor": "white",
            "ticks": ""
           },
           "bgcolor": "#E5ECF6",
           "caxis": {
            "gridcolor": "white",
            "linecolor": "white",
            "ticks": ""
           }
          },
          "title": {
           "x": 0.05
          },
          "xaxis": {
           "automargin": true,
           "gridcolor": "white",
           "linecolor": "white",
           "ticks": "",
           "title": {
            "standoff": 15
           },
           "zerolinecolor": "white",
           "zerolinewidth": 2
          },
          "yaxis": {
           "automargin": true,
           "gridcolor": "white",
           "linecolor": "white",
           "ticks": "",
           "title": {
            "standoff": 15
           },
           "zerolinecolor": "white",
           "zerolinewidth": 2
          }
         }
        }
       }
      }
     },
     "metadata": {},
     "output_type": "display_data"
    }
   ],
   "source": [
    "import pandas as pd\n",
    "\n",
    "import plotly.express as px \n",
    "\n",
    "name = []\n",
    "popularity =[]\n",
    "\n",
    "for i in st[\"items\"]:\n",
    "    name.append(i[\"name\"])\n",
    "    popularity.append(i[\"popularity\"])\n",
    "\n",
    "df = pd.DataFrame({\"Name\" : name, \"Popularity\" : popularity})\n",
    "\n",
    "px.pie(df, values = \"Popularity\", names=\"Name\")"
   ]
  },
  {
   "cell_type": "code",
   "execution_count": 92,
   "metadata": {},
   "outputs": [
    {
     "data": {
      "text/plain": [
       "[{'external_urls': {'spotify': 'https://open.spotify.com/artist/49tQo2QULno7gxHutgccqF'},\n",
       "  'followers': {'href': None, 'total': 4705479},\n",
       "  'genres': ['la pop', 'pop'],\n",
       "  'href': 'https://api.spotify.com/v1/artists/49tQo2QULno7gxHutgccqF',\n",
       "  'id': '49tQo2QULno7gxHutgccqF',\n",
       "  'images': [{'height': 640,\n",
       "    'url': 'https://i.scdn.co/image/ab6761610000e5eb046b6fbb00503d1bb72ac7ae',\n",
       "    'width': 640},\n",
       "   {'height': 320,\n",
       "    'url': 'https://i.scdn.co/image/ab67616100005174046b6fbb00503d1bb72ac7ae',\n",
       "    'width': 320},\n",
       "   {'height': 160,\n",
       "    'url': 'https://i.scdn.co/image/ab6761610000f178046b6fbb00503d1bb72ac7ae',\n",
       "    'width': 160}],\n",
       "  'name': 'LANY',\n",
       "  'popularity': 74,\n",
       "  'type': 'artist',\n",
       "  'uri': 'spotify:artist:49tQo2QULno7gxHutgccqF'},\n",
       " {'external_urls': {'spotify': 'https://open.spotify.com/artist/74cb3MG0x0BOnYNW1uXYnM'},\n",
       "  'followers': {'href': None, 'total': 3417159},\n",
       "  'genres': ['ccm',\n",
       "   'christian alternative rock',\n",
       "   'christian music',\n",
       "   'worship'],\n",
       "  'href': 'https://api.spotify.com/v1/artists/74cb3MG0x0BOnYNW1uXYnM',\n",
       "  'id': '74cb3MG0x0BOnYNW1uXYnM',\n",
       "  'images': [{'height': 640,\n",
       "    'url': 'https://i.scdn.co/image/ab6761610000e5eb08b1ae876402b0a3c83d0030',\n",
       "    'width': 640},\n",
       "   {'height': 320,\n",
       "    'url': 'https://i.scdn.co/image/ab6761610000517408b1ae876402b0a3c83d0030',\n",
       "    'width': 320},\n",
       "   {'height': 160,\n",
       "    'url': 'https://i.scdn.co/image/ab6761610000f17808b1ae876402b0a3c83d0030',\n",
       "    'width': 160}],\n",
       "  'name': 'Hillsong UNITED',\n",
       "  'popularity': 68,\n",
       "  'type': 'artist',\n",
       "  'uri': 'spotify:artist:74cb3MG0x0BOnYNW1uXYnM'},\n",
       " {'external_urls': {'spotify': 'https://open.spotify.com/artist/3Tc2FLW6aD9eMcd4uyxqOP'},\n",
       "  'followers': {'href': None, 'total': 1810},\n",
       "  'genres': [],\n",
       "  'href': 'https://api.spotify.com/v1/artists/3Tc2FLW6aD9eMcd4uyxqOP',\n",
       "  'id': '3Tc2FLW6aD9eMcd4uyxqOP',\n",
       "  'images': [{'height': 640,\n",
       "    'url': 'https://i.scdn.co/image/ab6761610000e5eb51e5de75e6ddd97198e4061b',\n",
       "    'width': 640},\n",
       "   {'height': 320,\n",
       "    'url': 'https://i.scdn.co/image/ab6761610000517451e5de75e6ddd97198e4061b',\n",
       "    'width': 320},\n",
       "   {'height': 160,\n",
       "    'url': 'https://i.scdn.co/image/ab6761610000f17851e5de75e6ddd97198e4061b',\n",
       "    'width': 160}],\n",
       "  'name': 'Josh Yeoh',\n",
       "  'popularity': 21,\n",
       "  'type': 'artist',\n",
       "  'uri': 'spotify:artist:3Tc2FLW6aD9eMcd4uyxqOP'},\n",
       " {'external_urls': {'spotify': 'https://open.spotify.com/artist/1GmsPCcpKgF9OhlNXjOsbS'},\n",
       "  'followers': {'href': None, 'total': 235270},\n",
       "  'genres': ['boston folk', 'indie pop', 'pop'],\n",
       "  'href': 'https://api.spotify.com/v1/artists/1GmsPCcpKgF9OhlNXjOsbS',\n",
       "  'id': '1GmsPCcpKgF9OhlNXjOsbS',\n",
       "  'images': [{'height': 640,\n",
       "    'url': 'https://i.scdn.co/image/ab6761610000e5ebb10e2b618880f429a3967185',\n",
       "    'width': 640},\n",
       "   {'height': 320,\n",
       "    'url': 'https://i.scdn.co/image/ab67616100005174b10e2b618880f429a3967185',\n",
       "    'width': 320},\n",
       "   {'height': 160,\n",
       "    'url': 'https://i.scdn.co/image/ab6761610000f178b10e2b618880f429a3967185',\n",
       "    'width': 160}],\n",
       "  'name': 'Lizzy McAlpine',\n",
       "  'popularity': 66,\n",
       "  'type': 'artist',\n",
       "  'uri': 'spotify:artist:1GmsPCcpKgF9OhlNXjOsbS'},\n",
       " {'external_urls': {'spotify': 'https://open.spotify.com/artist/31SBgHxc8eqZUk9MdveH42'},\n",
       "  'followers': {'href': None, 'total': 184570},\n",
       "  'genres': ['alternative r&b'],\n",
       "  'href': 'https://api.spotify.com/v1/artists/31SBgHxc8eqZUk9MdveH42',\n",
       "  'id': '31SBgHxc8eqZUk9MdveH42',\n",
       "  'images': [{'height': 640,\n",
       "    'url': 'https://i.scdn.co/image/ab6761610000e5eb5915117a3d3a0aa585ae50b0',\n",
       "    'width': 640},\n",
       "   {'height': 320,\n",
       "    'url': 'https://i.scdn.co/image/ab676161000051745915117a3d3a0aa585ae50b0',\n",
       "    'width': 320},\n",
       "   {'height': 160,\n",
       "    'url': 'https://i.scdn.co/image/ab6761610000f1785915117a3d3a0aa585ae50b0',\n",
       "    'width': 160}],\n",
       "  'name': 'PREP',\n",
       "  'popularity': 49,\n",
       "  'type': 'artist',\n",
       "  'uri': 'spotify:artist:31SBgHxc8eqZUk9MdveH42'}]"
      ]
     },
     "execution_count": 92,
     "metadata": {},
     "output_type": "execute_result"
    }
   ],
   "source": [
    "st[\"items\"]"
   ]
  },
  {
   "cell_type": "code",
   "execution_count": null,
   "metadata": {},
   "outputs": [],
   "source": []
  }
 ],
 "metadata": {
  "interpreter": {
   "hash": "842d10535cd11ba226fbe2e889d235b7886e91032a067fe8fe2b036de545b9fc"
  },
  "kernelspec": {
   "display_name": "Python 3.10.4 64-bit ('vizenv': conda)",
   "language": "python",
   "name": "python3"
  },
  "language_info": {
   "codemirror_mode": {
    "name": "ipython",
    "version": 3
   },
   "file_extension": ".py",
   "mimetype": "text/x-python",
   "name": "python",
   "nbconvert_exporter": "python",
   "pygments_lexer": "ipython3",
   "version": "3.10.4"
  },
  "orig_nbformat": 4
 },
 "nbformat": 4,
 "nbformat_minor": 2
}
