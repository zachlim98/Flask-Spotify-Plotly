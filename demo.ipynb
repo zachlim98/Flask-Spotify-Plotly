{
 "cells": [
  {
   "cell_type": "code",
   "execution_count": 13,
   "metadata": {},
   "outputs": [
    {
     "name": "stdout",
     "output_type": "stream",
     "text": [
      "https://accounts.spotify.com/authorize?client_id=0274670a97214bc396040aae2ab3f181&response_type=code&redirect_uri=http%3A%2F%2Flocalhost%3A8080&scope=user-top-read\n"
     ]
    }
   ],
   "source": [
    "# Shows the top artists for a user\n",
    "import spotipy\n",
    "from spotipy.oauth2 import SpotifyOAuth\n",
    "\n",
    "scope = 'user-top-read'\n",
    "ranges = ['short_term', 'medium_term', 'long_term']\n",
    "\n",
    "auth_manager = SpotifyOAuth(client_id = \"0274670a97214bc396040aae2ab3f181\", \n",
    "client_secret= \"4b81944af86846099167d251f5283941\", \n",
    "redirect_uri=\"http://localhost:8080\", scope=scope)\n",
    "\n",
    "auth_url = auth_manager.get_authorize_url()\n",
    "\n",
    "print(auth_url)\n",
    "\n",
    "\n",
    "\n",
    "# for sp_range in ['short_term', 'medium_term', 'long_term']:\n",
    "#     print(\"range:\", sp_range)\n",
    "\n",
    "#     results = sp.current_user_top_artists(time_range=sp_range, limit=50)\n",
    "\n",
    "#     for i, item in enumerate(results['items']):\n",
    "#         print(i, item['name'])\n",
    "#     print()"
   ]
  },
  {
   "cell_type": "code",
   "execution_count": 31,
   "metadata": {},
   "outputs": [],
   "source": [
    "cache_handler = spotipy.cache_handler.CacheFileHandler(cache_path='.cache')\n",
    "auth_manager = spotipy.oauth2.SpotifyOAuth(client_id = \"0274670a97214bc396040aae2ab3f181\", \n",
    "client_secret= \"4b81944af86846099167d251f5283941\", \n",
    "redirect_uri=\"http://localhost:8080\",\n",
    "scope='user-read-currently-playing playlist-modify-private',\n",
    "                                            cache_handler=cache_handler, \n",
    "                                            show_dialog=True)"
   ]
  },
  {
   "cell_type": "code",
   "execution_count": 32,
   "metadata": {},
   "outputs": [
    {
     "name": "stdout",
     "output_type": "stream",
     "text": [
      "https://accounts.spotify.com/authorize?client_id=0274670a97214bc396040aae2ab3f181&response_type=code&redirect_uri=http%3A%2F%2Flocalhost%3A8080&scope=user-read-currently-playing+playlist-modify-private&show_dialog=True\n"
     ]
    }
   ],
   "source": [
    "auth_url = auth_manager.get_authorize_url()\n",
    "print(auth_url)"
   ]
  },
  {
   "cell_type": "code",
   "execution_count": 35,
   "metadata": {},
   "outputs": [],
   "source": [
    "aut_code = 'AQAKAx_fAvMBn4sgJnXPbwmZTz2rlLM4Wuq6xO2tu3_Mwc_sbD2aa7pBDU3YIp21m10-rsA2JqQwOQg_W3Kr3FrKVjeYnO5QwKoQ2buy0bKZ2GNGzsPcjLL3D2sqAWwlpL6Ow6iMtiE1obQMq5616HfzNjXJoRAzwGcbb1pKS6tnMDk8YcQSpCU6yV5ZMymwg2MA_ZFWnm5xqk8rW06_GDnK8dynoj8T-V6XJw20xw'"
   ]
  },
  {
   "cell_type": "code",
   "execution_count": 36,
   "metadata": {},
   "outputs": [
    {
     "name": "stderr",
     "output_type": "stream",
     "text": [
      "/tmp/ipykernel_53634/589240339.py:1: DeprecationWarning: You're using 'as_dict = True'.get_access_token will return the token string directly in future versions. Please adjust your code accordingly, or use get_cached_token instead.\n",
      "  auth_manager.get_access_token(aut_code)\n"
     ]
    },
    {
     "data": {
      "text/plain": [
       "{'access_token': 'BQAVU23qzOVr_-8surRmQnF5Aq9OFPP7ICLf3JvLlAyf7UvoQHjG-0_LNqDKn8bYFn5Qt1It1Okfb12PIGaN2s-9Ga3j8T0Dp4nBdoPIZr3DcxDM4h0mGU1V4zNo_gkcfGwJl9AT6V9HGWy6P6j9MxsXlD89jKyffNSLvVGdVRZ3jnWqOwjB',\n",
       " 'token_type': 'Bearer',\n",
       " 'expires_in': 3600,\n",
       " 'refresh_token': 'AQA2h0WWHkQrQKzSc4vpZn5BaLSRwyNa4diQZXAUyFIcZ9Zg-rbOmlim7UCd6sQ_7IIRgz_7_SMgjShRnA_7IMpYgniHEy9OXtJyjGJWqwdErvkbiF860RXgHPPa01KNnko',\n",
       " 'scope': 'user-read-currently-playing playlist-modify-private',\n",
       " 'expires_at': 1654654892}"
      ]
     },
     "execution_count": 36,
     "metadata": {},
     "output_type": "execute_result"
    }
   ],
   "source": [
    "auth_manager.get_access_token(aut_code)"
   ]
  },
  {
   "cell_type": "code",
   "execution_count": null,
   "metadata": {},
   "outputs": [],
   "source": []
  }
 ],
 "metadata": {
  "interpreter": {
   "hash": "842d10535cd11ba226fbe2e889d235b7886e91032a067fe8fe2b036de545b9fc"
  },
  "kernelspec": {
   "display_name": "Python 3.10.4 64-bit ('vizenv': conda)",
   "language": "python",
   "name": "python3"
  },
  "language_info": {
   "codemirror_mode": {
    "name": "ipython",
    "version": 3
   },
   "file_extension": ".py",
   "mimetype": "text/x-python",
   "name": "python",
   "nbconvert_exporter": "python",
   "pygments_lexer": "ipython3",
   "version": "3.10.4"
  },
  "orig_nbformat": 4
 },
 "nbformat": 4,
 "nbformat_minor": 2
}
